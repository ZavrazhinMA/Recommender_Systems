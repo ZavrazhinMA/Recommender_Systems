{
 "cells": [
  {
   "cell_type": "markdown",
   "metadata": {},
   "source": [
    "# ML-mетрики качества"
   ]
  },
  {
   "cell_type": "code",
   "execution_count": 1,
   "metadata": {
    "ExecuteTime": {
     "end_time": "2021-06-03T08:56:08.839343Z",
     "start_time": "2021-06-03T08:56:08.446323Z"
    }
   },
   "outputs": [],
   "source": [
    "import pandas as pd\n",
    "import numpy as np\n",
    "import warnings\n",
    "warnings.filterwarnings('ignore')"
   ]
  },
  {
   "cell_type": "markdown",
   "metadata": {},
   "source": [
    "## Hit rate\n",
    "\n",
    "* **Hit rate** = был ли хотя бы 1 релевантный товар среди рекомендованных\n",
    "* **Hit rate@k** = (был ли хотя бы 1 релевантный товар среди топ-k рекомендованных)\n",
    "\n",
    "Иногда применяется, когда продаются достаточно дорогие товары (например, бытовая техника) "
   ]
  },
  {
   "cell_type": "code",
   "execution_count": 2,
   "metadata": {
    "ExecuteTime": {
     "end_time": "2021-06-03T08:56:08.855323Z",
     "start_time": "2021-06-03T08:56:08.841323Z"
    }
   },
   "outputs": [],
   "source": [
    "recommended_list = [1432, 156, 1134, 27,\n",
    "                    1543, 3345, 533, 11, 43, 32]  # id товаров\n",
    "bought_list = [521, 32, 143, 991]"
   ]
  },
  {
   "cell_type": "code",
   "execution_count": 3,
   "metadata": {
    "ExecuteTime": {
     "end_time": "2021-06-03T08:56:08.871324Z",
     "start_time": "2021-06-03T08:56:08.858324Z"
    }
   },
   "outputs": [],
   "source": [
    "def hit_rate(recommended_list, bought_list, top_k: int = None):\n",
    "\n",
    "    bought_list = np.array(bought_list)\n",
    "    recommended_list = np.array(recommended_list)\n",
    "    if top_k:\n",
    "        if top_k > len(recommended_list)| top_k is None:\n",
    "            top_k = len(recommended_list)\n",
    "    flags = np.isin(bought_list, recommended_list[:top_k])\n",
    "\n",
    "    return (flags.sum() > 0) * 1"
   ]
  },
  {
   "cell_type": "code",
   "execution_count": 4,
   "metadata": {
    "ExecuteTime": {
     "end_time": "2021-06-03T08:56:08.886336Z",
     "start_time": "2021-06-03T08:56:08.872336Z"
    }
   },
   "outputs": [
    {
     "name": "stdout",
     "output_type": "stream",
     "text": [
      "Hit_rate = 1\n",
      "Hit rate@5 = 0\n"
     ]
    }
   ],
   "source": [
    "print(f'Hit_rate = {hit_rate(recommended_list, bought_list)}\\n'\n",
    "      f'Hit rate@5 = {hit_rate(recommended_list, bought_list, top_k=5)}')"
   ]
  },
  {
   "cell_type": "markdown",
   "metadata": {},
   "source": [
    "## Precision\n",
    "**Precision** - доля релевантных товаров среди рекомендованных = Какой % рекомендованных товаров юзер купил\n",
    "* Precision= (# of recommended items that are relevant) / (# of recommended items)  \n",
    "* Precision@k = (# of recommended items @k that are relevant) / (# of recommended items @k)\n",
    "* Money Precision@k = (revenue of recommended items @k that are relevant) / (revenue of recommended items @k)  \n"
   ]
  },
  {
   "cell_type": "code",
   "execution_count": 5,
   "metadata": {
    "ExecuteTime": {
     "end_time": "2021-06-03T08:56:08.902343Z",
     "start_time": "2021-06-03T08:56:08.887336Z"
    }
   },
   "outputs": [],
   "source": [
    "recommended_list = [143, 156, 1134, 991, 27, 1543, 3345, 533, 11, 43]\n",
    "bought_list = [521, 32, 143, 991]\n",
    "prices_recommended = [400, 60, 40, 40, 90, 13, 18, 24, 120, 140]"
   ]
  },
  {
   "cell_type": "code",
   "execution_count": 6,
   "metadata": {
    "ExecuteTime": {
     "end_time": "2021-06-03T08:56:08.917337Z",
     "start_time": "2021-06-03T08:56:08.905336Z"
    }
   },
   "outputs": [],
   "source": [
    "def precision(recommended_list, bought_list, top_k: int = None):\n",
    "\n",
    "    bought_list = np.array(bought_list)\n",
    "    recommended_list = np.array(recommended_list)\n",
    "\n",
    "    if top_k:\n",
    "        if top_k > len(recommended_list) | top_k is None:\n",
    "            top_k = len(recommended_list)\n",
    "    flags = np.isin(bought_list, recommended_list[:top_k])\n",
    "\n",
    "    return flags.sum() / len(recommended_list[:top_k])"
   ]
  },
  {
   "cell_type": "code",
   "execution_count": 7,
   "metadata": {
    "ExecuteTime": {
     "end_time": "2021-06-03T08:56:08.933452Z",
     "start_time": "2021-06-03T08:56:08.919325Z"
    }
   },
   "outputs": [],
   "source": [
    "def money_precision(recommended_list, bought_list, prices_recommended, top_k: int = None):\n",
    "\n",
    "    recommend_list = np.array(recommended_list)\n",
    "    bought_list = np.array(bought_list)\n",
    "    prices_recommended = np.array(prices_recommended)\n",
    "    \n",
    "\n",
    "    if top_k:\n",
    "        if top_k > len(recommended_list)| top_k is None:\n",
    "            top_k = len(recommended_list)\n",
    "        \n",
    "    flags = np.isin(recommend_list[:top_k], bought_list)\n",
    "    precision = np.dot(flags, prices_recommended[:top_k]).sum() / \\\n",
    "        prices_recommended[:top_k].sum()\n",
    "\n",
    "    return precision"
   ]
  },
  {
   "cell_type": "code",
   "execution_count": 8,
   "metadata": {
    "ExecuteTime": {
     "end_time": "2021-06-03T08:56:08.949482Z",
     "start_time": "2021-06-03T08:56:08.935467Z"
    }
   },
   "outputs": [
    {
     "name": "stdout",
     "output_type": "stream",
     "text": [
      "precision = 0.2\n",
      "precision@5 = 0.4\n",
      "money_precision@5 = 0.6984126984126984\n"
     ]
    }
   ],
   "source": [
    "print(f'precision = {precision(recommended_list, bought_list)}\\n'\n",
    "      f'precision@5 = {precision(recommended_list, bought_list, top_k=5)}\\n'\n",
    "      f'money_precision@5 = {money_precision(recommended_list, bought_list, prices_recommended, top_k=5)}')"
   ]
  },
  {
   "cell_type": "markdown",
   "metadata": {},
   "source": [
    "## Recall\n",
    "**Recall** - доля рекомендованных товаров среди релевантных = Какой % купленных товаров был среди рекомендованных\n",
    "\n",
    "Обычно используется для моделей пре-фильтрации товаров (убрать те товары, которые точно не будем рекомендова\n",
    "* Recall= (# of recommended items that are relevant) / (# of relevant items)\n",
    "\n",
    "* Recall@k = (# of recommended items @k that are relevant) / (# of relevant items)\n",
    "\n",
    "* Money Recall@k = (revenue of recommended items @k that are relevant) / (revenue of relevant items)\n",
    "\n",
    "Note: в recall@k число k обычно достаточно большое (50-200), больше чем покупок у среднестатистического юзера"
   ]
  },
  {
   "cell_type": "code",
   "execution_count": 9,
   "metadata": {
    "ExecuteTime": {
     "end_time": "2021-06-03T08:56:08.965469Z",
     "start_time": "2021-06-03T08:56:08.951469Z"
    }
   },
   "outputs": [],
   "source": [
    "recommended_list = [143, 156, 1134, 991, 27, 1543, 3345, 533, 11, 43]\n",
    "prices_recommended = [400, 60, 40, 40, 90, 13, 18, 24, 120, 140]\n",
    "bought_list = [521, 32, 143, 991]\n",
    "prices_bought = [301, 202, 400, 40]"
   ]
  },
  {
   "cell_type": "code",
   "execution_count": 10,
   "metadata": {
    "ExecuteTime": {
     "end_time": "2021-06-03T08:56:08.981467Z",
     "start_time": "2021-06-03T08:56:08.967469Z"
    }
   },
   "outputs": [],
   "source": [
    "def recall(recommended_list, bought_list, top_k: int = None):\n",
    "\n",
    "    bought_list = np.array(bought_list)\n",
    "    recommended_list = np.array(recommended_list)\n",
    "    if top_k:\n",
    "        if top_k > len(recommended_list) | top_k is None:\n",
    "            top_k = len(recommended_list)\n",
    "    flags = np.isin(bought_list, recommended_list[:top_k])\n",
    "\n",
    "    return flags.sum() / len(bought_list)"
   ]
  },
  {
   "cell_type": "code",
   "execution_count": 11,
   "metadata": {
    "ExecuteTime": {
     "end_time": "2021-06-03T08:56:08.997482Z",
     "start_time": "2021-06-03T08:56:08.983471Z"
    }
   },
   "outputs": [],
   "source": [
    "def money_recall(recommended_list, bought_list, prices_recommended, prices_bought, top_k: int = None):\n",
    "\n",
    "    bought_list = np.array(bought_list)\n",
    "    prices_bought = np.array(prices_bought)\n",
    "    recommended_list = np.array(recommended_list)\n",
    "    prices_recommended = np.array(prices_recommended)\n",
    "    if top_k:\n",
    "        if top_k > len(recommended_list) | top_k is None:\n",
    "            top_k = len(recommended_list)\n",
    "\n",
    "    flags = np.isin(recommended_list[:top_k], bought_list)\n",
    "    recall = np.dot(flags, prices_recommended[:top_k]).sum() / prices_bought.sum()\n",
    "\n",
    "    return recall"
   ]
  },
  {
   "cell_type": "code",
   "execution_count": 12,
   "metadata": {
    "ExecuteTime": {
     "end_time": "2021-06-03T08:56:09.013480Z",
     "start_time": "2021-06-03T08:56:08.999471Z"
    }
   },
   "outputs": [
    {
     "name": "stdout",
     "output_type": "stream",
     "text": [
      "precision = 0.5\n",
      "precision@3 = 0.25\n",
      "money recall@10) = 0.46659597030752914\n"
     ]
    }
   ],
   "source": [
    "print(f'precision = {recall(recommended_list, bought_list)}\\n'\n",
    "      f'precision@3 = {recall(recommended_list, bought_list, top_k=3)}\\n'\n",
    "      f'money recall@10) = {money_recall(recommended_list, bought_list, prices_recommended, prices_bought, top_k=10)}')"
   ]
  },
  {
   "cell_type": "markdown",
   "metadata": {},
   "source": [
    "***********"
   ]
  },
  {
   "cell_type": "markdown",
   "metadata": {},
   "source": [
    "# Метрики ранжирования\n",
    "**Если важен порядок рекомендаций.**"
   ]
  },
  {
   "cell_type": "markdown",
   "metadata": {},
   "source": [
    "## AP@k\n",
    "AP@k - average precision at k\n",
    "\n",
    "$$AP@k = \\frac{1}{r} \\sum{[recommended_{relevant_i}] * precision@k}$$\n",
    "\n",
    "- r - кол-во релевантный среди рекомендованных\n",
    "- Суммируем по всем релевантным товарам\n",
    "- Зависит от порядка реокмендаций"
   ]
  },
  {
   "cell_type": "code",
   "execution_count": 13,
   "metadata": {
    "ExecuteTime": {
     "end_time": "2021-06-03T08:56:09.029481Z",
     "start_time": "2021-06-03T08:56:09.015469Z"
    }
   },
   "outputs": [],
   "source": [
    "recommended_list = [2, 5, 7, 4, 11, 9, 8, 10, 12, 3]  # id товаров\n",
    "bought_list = [1, 3, 5, 7, 9, 11]"
   ]
  },
  {
   "cell_type": "code",
   "execution_count": 14,
   "metadata": {
    "ExecuteTime": {
     "end_time": "2021-06-03T08:56:09.045480Z",
     "start_time": "2021-06-03T08:56:09.031469Z"
    }
   },
   "outputs": [],
   "source": [
    "def ap(recommended_list, bought_list, top_k: int = None):\n",
    "\n",
    "    bought_list = np.array(bought_list)\n",
    "    recommended_list = np.array(recommended_list)\n",
    "    if top_k:\n",
    "        if top_k > len(recommended_list) | top_k is None:\n",
    "            top_k = len(recommended_list)\n",
    "\n",
    "    relevant_indexes = np.nonzero(np.isin(recommended_list[:top_k], bought_list))[0]\n",
    "    if len(relevant_indexes) == 0:\n",
    "        return 0\n",
    "\n",
    "    amount_relevant = len(relevant_indexes)\n",
    "\n",
    "    sum_ = sum([precision(recommended_list, bought_list, top_k=index_relevant+1)\n",
    "                for index_relevant in relevant_indexes])\n",
    "    return sum_/amount_relevant"
   ]
  },
  {
   "cell_type": "code",
   "execution_count": 15,
   "metadata": {
    "ExecuteTime": {
     "end_time": "2021-06-03T08:56:09.061480Z",
     "start_time": "2021-06-03T08:56:09.047469Z"
    }
   },
   "outputs": [
    {
     "name": "stdout",
     "output_type": "stream",
     "text": [
      "AP@8 = 0.6083333333333333\n"
     ]
    }
   ],
   "source": [
    "print(f'AP@8 = {ap(recommended_list, bought_list, 8)}')"
   ]
  },
  {
   "cell_type": "markdown",
   "metadata": {},
   "source": [
    "## MAP@k\n",
    "​\n",
    "MAP@k (Mean Average Precision@k)  \n",
    "Среднее AP@k по всем юзерам\n",
    "- Показывает средневзвешенную точность рекомендаций\n",
    "​\n",
    "$$MAP@k = \\frac{1}{|U|} \\sum_u{AP_k}$$\n",
    "  \n",
    "|U| - кол-во юзеров"
   ]
  },
  {
   "cell_type": "code",
   "execution_count": 16,
   "metadata": {
    "ExecuteTime": {
     "end_time": "2021-06-03T08:56:09.077482Z",
     "start_time": "2021-06-03T08:56:09.063466Z"
    }
   },
   "outputs": [],
   "source": [
    "# теперь список из 3 пользователей\n",
    "recommended_list_3_users = [[143, 156, 1134, 991, 27, 1543, 3345, 533, 11, 43], \n",
    "                    [1134, 533, 14, 4, 15, 1543, 1, 99, 27, 3345],\n",
    "                    [991, 3345, 27, 533, 43, 143, 1543, 156, 1134, 11]\n",
    "                    ]\n",
    "\n",
    "bought_list_3_users = [[521, 32, 143],  # юзер 1\n",
    "                       [143, 156, 991, 43, 11], # юзер 2\n",
    "                       [1,2]] # юзер 3"
   ]
  },
  {
   "cell_type": "code",
   "execution_count": 17,
   "metadata": {
    "ExecuteTime": {
     "end_time": "2021-06-03T08:56:09.093480Z",
     "start_time": "2021-06-03T08:56:09.079469Z"
    }
   },
   "outputs": [],
   "source": [
    "def map_at_k(recommended_list, bought_list, top_k: int = None):\n",
    "    \n",
    "    sum_ap = 0\n",
    "    n_users = len(recommended_list)\n",
    "    if n_users == 0:\n",
    "        return 0\n",
    "    for user in range(n_users):\n",
    "        sum_ap += ap(recommended_list[user], bought_list[user], top_k)\n",
    "\n",
    "    return sum_ap / n_users"
   ]
  },
  {
   "cell_type": "code",
   "execution_count": 18,
   "metadata": {
    "ExecuteTime": {
     "end_time": "2021-06-03T08:56:09.109480Z",
     "start_time": "2021-06-03T08:56:09.095469Z"
    }
   },
   "outputs": [
    {
     "name": "stdout",
     "output_type": "stream",
     "text": [
      "MAP@5 = 0.3333333333333333\n"
     ]
    }
   ],
   "source": [
    "print(f'MAP@5 = {map_at_k(recommended_list_3_users, bought_list_3_users, 5)}')"
   ]
  },
  {
   "cell_type": "markdown",
   "metadata": {},
   "source": [
    "## AUC@k\n",
    "AUC для первых k наблюдений  \n",
    "- Можно посчитать как sklern.metrics.roc_auc_score для топ-k предсказаний\n",
    "- Показывает долю верно отранжированных товаров"
   ]
  },
  {
   "cell_type": "markdown",
   "metadata": {},
   "source": [
    "## Normalized discounted cumulative gain ( NDCG@k)\n",
    "\n",
    "\n",
    "$$DCG = \\frac{1}{|r|} \\sum_u{\\frac{[bought fact]}{discount(i)}}$$  \n",
    "\n",
    "$discount(i) = i$ if $i <= 2$,   \n",
    "$discount(i) = log_2(i)$ if $i > 2$\n",
    "\n",
    "\n",
    "(!) Считаем для первых k рекоммендаций   \n",
    "(!) - существуют вариации с другими $discount(i)$  \n",
    "i - ранк рекомендованного товара  \n",
    "|r| - кол-во рекомендованных товаров \n",
    "\n",
    "$$NDCG = \\frac{DCG}{ideal DCG}$$\n",
    "\n",
    "\n",
    "$DCG@5 = \\frac{1}{5}*(1 / 1 + 0 / 2 + 0 / log(3) + 1 / log(4) + 0 / log(5))$  \n",
    "$ideal DCG@5 = \\frac{1}{5}*(1 / 1 + 1 / 2 + 1 / log(3) + 1 / log(4) + 1 / log(5))$  "
   ]
  },
  {
   "cell_type": "code",
   "execution_count": 19,
   "metadata": {
    "ExecuteTime": {
     "end_time": "2021-06-03T08:56:09.125467Z",
     "start_time": "2021-06-03T08:56:09.111468Z"
    }
   },
   "outputs": [],
   "source": [
    "recommended_list = [2, 5, 7, 4, 11, 9, 8, 10, 12, 3]  # id товаров\n",
    "bought_list = [1, 3, 5, 7, 9, 11]"
   ]
  },
  {
   "cell_type": "code",
   "execution_count": 20,
   "metadata": {
    "ExecuteTime": {
     "end_time": "2021-06-03T08:56:09.141466Z",
     "start_time": "2021-06-03T08:56:09.126480Z"
    }
   },
   "outputs": [],
   "source": [
    "def ndcg_at_k(recommended_list, bought_list, top_k):\n",
    "    \n",
    "    bought_list = np.array(bought_list)\n",
    "    recommended_list = np.array(recommended_list)\n",
    "\n",
    "    if top_k > len(recommended_list):\n",
    "        top_k = len(recommended_list)\n",
    "    flags = np.isin(recommended_list[:top_k], bought_list)\n",
    "    gain_array = [1/i if i < 3 else 1/np.log2(i) for i in range(1, top_k+1)]\n",
    "    ideal_dcg = sum(gain_array) / top_k # top_k можно убрать, оставил на случай если надо будет выводить значение  DCG\n",
    "    dcg = np.dot(flags, np.array(gain_array)) / top_k\n",
    "\n",
    "    return dcg / ideal_dcg"
   ]
  },
  {
   "cell_type": "code",
   "execution_count": 21,
   "metadata": {
    "ExecuteTime": {
     "end_time": "2021-06-03T08:56:09.156482Z",
     "start_time": "2021-06-03T08:56:09.144468Z"
    }
   },
   "outputs": [
    {
     "name": "stdout",
     "output_type": "stream",
     "text": [
      "NDCG@5 = 0.510061109328546\n"
     ]
    }
   ],
   "source": [
    "print(f'NDCG@5 = {ndcg_at_k(recommended_list, bought_list, 5)}')"
   ]
  },
  {
   "cell_type": "markdown",
   "metadata": {},
   "source": [
    "## Mean Reciprocal Rank ( MRR@k )\n",
    "\n",
    "\n",
    "- Считаем для первых k рекоммендаций\n",
    "- Найти ранк первого релевантного предсказания $k_u$\n",
    "- Посчитать reciprocal rank = $\\frac{1}{k_u}$\n",
    "\n",
    "$$MRR = mean(\\frac{1}{k_u})$$"
   ]
  },
  {
   "cell_type": "code",
   "execution_count": 22,
   "metadata": {
    "ExecuteTime": {
     "end_time": "2021-06-03T08:56:09.172597Z",
     "start_time": "2021-06-03T08:56:09.158467Z"
    }
   },
   "outputs": [],
   "source": [
    "def reciprocal_rank(recommended_list, bought_list, top_k):\n",
    "\n",
    "    bought_list = np.array(bought_list)\n",
    "    recommended_list = np.array(recommended_list)\n",
    "    sum_ku = 0\n",
    "\n",
    "    if top_k > len(recommended_list[0]):\n",
    "        top_k = len(recommended_list[0])\n",
    "    \n",
    "    n_users = len(recommended_list)\n",
    "    if n_users == 0:\n",
    "        return 0\n",
    "    \n",
    "    for user in range(n_users):\n",
    "        try:\n",
    "            ku = np.nonzero(np.isin(recommended_list[user][:top_k], bought_list[user]))[0][0] + 1\n",
    "            sum_ku += 1 / ku\n",
    "        except IndexError:\n",
    "            next\n",
    "\n",
    "    return sum_ku/n_users"
   ]
  },
  {
   "cell_type": "code",
   "execution_count": 23,
   "metadata": {
    "ExecuteTime": {
     "end_time": "2021-06-03T08:56:09.187468Z",
     "start_time": "2021-06-03T08:56:09.174469Z"
    },
    "scrolled": true
   },
   "outputs": [
    {
     "name": "stdout",
     "output_type": "stream",
     "text": [
      "MRR@5 = 0.3333333333333333\n"
     ]
    }
   ],
   "source": [
    "print(f'MRR@5 = {reciprocal_rank(recommended_list_3_users, bought_list_3_users, 5)}')"
   ]
  },
  {
   "cell_type": "markdown",
   "metadata": {},
   "source": [
    "*********************\n",
    "# \n",
    "**Приведите еще примеры метрик для оценки рекомендаций/ранжирования (можно взять из интернета, или ваши знания)**"
   ]
  },
  {
   "cell_type": "markdown",
   "metadata": {},
   "source": [
    "## Метрики на основе ранговой корреляции\n",
    "\n",
    "Отдельно стоит выделить метрики качества ранжирования, основанные на одном из коэффициентов ранговой корреляции. В статистике, ранговый коэффициент корреляции — это коэффициент корреляции, который учитывает не сами значения, а лишь их ранг (порядок). \n",
    "\n",
    "\n",
    "* Ранговый коэффициент корреляции Кендэлла\n",
    "\n",
    "* Ранговый коэффициент корреляции Спирмена"
   ]
  },
  {
   "cell_type": "code",
   "execution_count": 24,
   "metadata": {
    "ExecuteTime": {
     "end_time": "2021-06-03T08:56:09.633472Z",
     "start_time": "2021-06-03T08:56:09.189469Z"
    }
   },
   "outputs": [
    {
     "name": "stdout",
     "output_type": "stream",
     "text": [
      "SpearmanrResult(correlation=0.7714285714285715, pvalue=0.07239650145772594)\n",
      "KendalltauResult(correlation=0.6, pvalue=0.1361111111111111)\n"
     ]
    }
   ],
   "source": [
    "from scipy.stats import spearmanr\n",
    "from scipy.stats import kendalltau  \n",
    "\n",
    "print(spearmanr(recommended_list[:len(bought_list)], bought_list), kendalltau(\n",
    "    recommended_list[:len(bought_list)], bought_list), sep='\\n')"
   ]
  },
  {
   "cell_type": "markdown",
   "metadata": {},
   "source": [
    "## Метрики на основе каскадной модели поведения\n",
    "\n",
    "**Учитывают зависимость простотра одного элемента от просмотров других элементов**\n",
    "\n",
    "Подобные модели поведения пользователя, где изучение предложенных ему элементов происходит последовательно и вероятность просмотра элемента зависит от релевантности предыдущих называются каскадным.\n",
    "\n",
    "В расчетах используются вероятности\n",
    "\n",
    "* Expected reciprocal rank (ERR)\n",
    "* PFound"
   ]
  }
 ],
 "metadata": {
  "kernelspec": {
   "display_name": "Python 3",
   "language": "python",
   "name": "python3"
  },
  "language_info": {
   "codemirror_mode": {
    "name": "ipython",
    "version": 3
   },
   "file_extension": ".py",
   "mimetype": "text/x-python",
   "name": "python",
   "nbconvert_exporter": "python",
   "pygments_lexer": "ipython3",
   "version": "3.8.5"
  },
  "toc": {
   "base_numbering": 1,
   "nav_menu": {},
   "number_sections": true,
   "sideBar": true,
   "skip_h1_title": false,
   "title_cell": "Table of Contents",
   "title_sidebar": "Contents",
   "toc_cell": false,
   "toc_position": {},
   "toc_section_display": true,
   "toc_window_display": false
  }
 },
 "nbformat": 4,
 "nbformat_minor": 4
}
